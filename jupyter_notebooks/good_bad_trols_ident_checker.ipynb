{
 "cells": [
  {
   "cell_type": "markdown",
   "id": "4f282b92-9fa5-4792-8616-b3e1c7d79bf0",
   "metadata": {},
   "source": [
    "# Good and bad Controls, Identifiability Checker applied to 18 & 1/2 dot files\n",
    "\n"
   ]
  },
  {
   "cell_type": "code",
   "execution_count": null,
   "id": "a82b86c7-3255-4162-b741-a60e0f2b7213",
   "metadata": {},
   "outputs": [],
   "source": [
    "# this makes sure it starts looking for things from the JudeasRx folder down.\n",
    "import os\n",
    "import sys\n",
    "os.chdir('../')\n",
    "sys.path.insert(0,os.getcwd())\n",
    "print(os.getcwd())"
   ]
  }
 ],
 "metadata": {
  "kernelspec": {
   "display_name": "Python 3 (ipykernel)",
   "language": "python",
   "name": "python3"
  },
  "language_info": {
   "codemirror_mode": {
    "name": "ipython",
    "version": 3
   },
   "file_extension": ".py",
   "mimetype": "text/x-python",
   "name": "python",
   "nbconvert_exporter": "python",
   "pygments_lexer": "ipython3",
   "version": "3.9.10"
  }
 },
 "nbformat": 4,
 "nbformat_minor": 5
}
