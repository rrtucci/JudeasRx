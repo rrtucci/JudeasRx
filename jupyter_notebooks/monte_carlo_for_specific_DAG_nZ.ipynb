{
 "cells": [
  {
   "cell_type": "markdown",
   "id": "bf51762e-07c8-4dd6-9db9-68eceafd79d2",
   "metadata": {},
   "source": [
    "# Monte Carlo evaluation of bounds for a specific DAG and any number of strata \n",
    "\n",
    "Here we use PyMC3 to do MCMC (Markov Chain Monte Carlo)."
   ]
  },
  {
   "cell_type": "code",
   "execution_count": null,
   "id": "a620d2b7-6a70-4f9c-9822-643f12c2bd1b",
   "metadata": {},
   "outputs": [],
   "source": [
    "# this makes sure it starts looking for things from the JudeasRx folder down.\n",
    "import os\n",
    "import sys\n",
    "os.chdir('../')\n",
    "sys.path.insert(0,os.getcwd())\n",
    "print(os.getcwd())"
   ]
  }
 ],
 "metadata": {
  "kernelspec": {
   "display_name": "Python 3 (ipykernel)",
   "language": "python",
   "name": "python3"
  },
  "language_info": {
   "codemirror_mode": {
    "name": "ipython",
    "version": 3
   },
   "file_extension": ".py",
   "mimetype": "text/x-python",
   "name": "python",
   "nbconvert_exporter": "python",
   "pygments_lexer": "ipython3",
   "version": "3.9.0"
  }
 },
 "nbformat": 4,
 "nbformat_minor": 5
}
