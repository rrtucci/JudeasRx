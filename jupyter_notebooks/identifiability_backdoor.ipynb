{
 "cells": [
  {
   "cell_type": "markdown",
   "id": "75850417-5260-4e5a-8d0c-aae1718addd3",
   "metadata": {},
   "source": [
    "# Identifiability and Backdoor Adjustment Formula\n",
    "\n",
    "This notebook explores identifiability via the IdentifiabiltyChecker, for the simple triangle graph\n",
    "with nodes X, Y, Z and arrows X->Y and X<-Z->Y.\n",
    "\n",
    "We verify that the Backdoor Adjustmen Formula is satisfied."
   ]
  },
  {
   "cell_type": "code",
   "execution_count": 1,
   "id": "9da5b20f-fcdd-4376-adee-4d7d63bfca9e",
   "metadata": {},
   "outputs": [
    {
     "name": "stdout",
     "output_type": "stream",
     "text": [
      "/home/rrtucci/PycharmProjects/JudeasRx\n"
     ]
    }
   ],
   "source": [
    "# this makes sure it starts looking for things from the JudeasRx folder down.\n",
    "import os\n",
    "import sys\n",
    "os.chdir('../')\n",
    "sys.path.insert(0,os.getcwd())\n",
    "print(os.getcwd())"
   ]
  },
  {
   "cell_type": "code",
   "execution_count": 2,
   "id": "cce29474-223d-41e5-9251-d2afd0aec381",
   "metadata": {},
   "outputs": [],
   "source": [
    "from DoX_BayesNet import DoX_BayesNet\n",
    "import DoX_BayesNet\n",
    "from graphs.BayesNet import *\n",
    "from nodes.BayesNode import *\n",
    "from IdentifiabilityChecker import IdentifiabilityChecker\n",
    "import IdentifiabilityChecker\n",
    "from Plotter_nz import *\n",
    "import imp\n",
    "from pprint import pprint\n",
    "%matplotlib inline"
   ]
  },
  {
   "cell_type": "code",
   "execution_count": 3,
   "id": "005ee8d6-fe70-4941-8777-a2d9bff5baa4",
   "metadata": {},
   "outputs": [
    {
     "data": {
      "text/plain": [
       "<module 'IdentifiabilityChecker' from '/home/rrtucci/PycharmProjects/JudeasRx/IdentifiabilityChecker.py'>"
      ]
     },
     "execution_count": 3,
     "metadata": {},
     "output_type": "execute_result"
    }
   ],
   "source": [
    "# this cell is for development purposes. Rerun this\n",
    "# every time there are changes to the code,\n",
    "# instead of restarting the kernel, which takes much longer.\n",
    "imp.reload(DoX_BayesNet)\n",
    "imp.reload(IdentifiabilityChecker)"
   ]
  },
  {
   "cell_type": "code",
   "execution_count": 4,
   "id": "29b6f98d-3845-4c2d-8d2d-4284e8ba7d98",
   "metadata": {},
   "outputs": [],
   "source": [
    "def print_bnet(bnet):\n",
    "    for nd in bnet.nodes:\n",
    "        print(nd.name, \", parents=\" + str([x.name for x in nd.parents]),\n",
    "              \", children=\" + str([x.name for x in nd.children]))\n",
    "        print(nd.potential)\n",
    "        print(nd.potential.pot_arr)\n",
    "        print()"
   ]
  },
  {
   "cell_type": "markdown",
   "id": "af1e5ec0-311c-4b01-b908-cdd6f18d0809",
   "metadata": {},
   "source": [
    "## Building in_bnet"
   ]
  },
  {
   "cell_type": "code",
   "execution_count": 5,
   "id": "fa13bdea-6abe-4614-b26b-0eb3fd349671",
   "metadata": {},
   "outputs": [
    {
     "data": {
      "image/png": "[encoded data removed]",
      "text/plain": [
       "<Figure size 432x288 with 1 Axes>"
      ]
     },
     "metadata": {},
     "output_type": "display_data"
    },
    {
     "name": "stdout",
     "output_type": "stream",
     "text": [
      "X , parents=['Z'] , children=['Y']\n",
      "['Z', 'X']\n",
      "[[0.518 0.482]\n",
      " [0.882 0.118]]\n",
      "[[0.518 0.482]\n",
      " [0.882 0.118]]\n",
      "\n",
      "Z , parents=[] , children=['X', 'Y']\n",
      "['Z']\n",
      "[0.659 0.341]\n",
      "[0.659 0.341]\n",
      "\n",
      "Y , parents=['X', 'Z'] , children=[]\n",
      "['Z', 'X', 'Y']\n",
      "[[[0.326 0.674]\n",
      "  [0.520 0.480]]\n",
      "\n",
      " [[0.589 0.411]\n",
      "  [0.438 0.562]]]\n",
      "[[[0.326 0.674]\n",
      "  [0.520 0.480]]\n",
      "\n",
      " [[0.589 0.411]\n",
      "  [0.438 0.562]]]\n",
      "\n"
     ]
    }
   ],
   "source": [
    "def build_in_bnet(draw=True):\n",
    "    nd_X = BayesNode(0, name=\"X\")\n",
    "    nd_Y = BayesNode(1, name=\"Y\")\n",
    "    nd_Z = BayesNode(2, name=\"Z\")\n",
    "\n",
    "    nd_Y.add_parents({nd_X, nd_Z})\n",
    "    nd_X.add_parents({nd_Z})\n",
    "\n",
    "    nodes = {nd_X, nd_Y, nd_Z}\n",
    "    in_bnet = BayesNet(nodes)\n",
    "\n",
    "    # in general\n",
    "    # DiscreteCondPot(False, [y1, y2, y3, x]) refers to P(x| y1, y2, y3)\n",
    "    nd_Z.potential = DiscreteUniPot(False, nd_Z)  # P(a)\n",
    "    nd_X.potential = DiscreteCondPot(False, [nd_Z, nd_X])  # P(b| a)\n",
    "    nd_Y.potential = DiscreteCondPot(False, [nd_Z, nd_X, nd_Y])\n",
    "    for nd in nodes:\n",
    "        nd.potential.set_to_random()\n",
    "        nd.potential.normalize_self()\n",
    "    if draw:\n",
    "        in_bnet.draw(algo_num=1)\n",
    "    return in_bnet\n",
    "\n",
    "    \n",
    "in_bnet = build_in_bnet(True)\n",
    "print_bnet(in_bnet)"
   ]
  },
  {
   "cell_type": "markdown",
   "id": "70194c28-1fd5-47bb-9bdd-4b52e6197f13",
   "metadata": {},
   "source": [
    "## Building doX bnet"
   ]
  },
  {
   "cell_type": "code",
   "execution_count": 6,
   "id": "6910c123-a933-484d-ba3d-5b0160d035b5",
   "metadata": {},
   "outputs": [
    {
     "data": {
      "image/png": "[encoded data removed]",
      "text/plain": [
       "<Figure size 432x288 with 1 Axes>"
      ]
     },
     "metadata": {},
     "output_type": "display_data"
    },
    {
     "name": "stdout",
     "output_type": "stream",
     "text": [
      "X , parents=[] , children=['Y']\n",
      "['X']\n",
      "[1.000 0.000]\n",
      "[1.000 0.000]\n",
      "\n",
      "Z , parents=[] , children=['Y']\n",
      "['Z']\n",
      "[0.659 0.341]\n",
      "[0.659 0.341]\n",
      "\n",
      "Y , parents=['X', 'Z'] , children=[]\n",
      "['Z', 'X', 'Y']\n",
      "[[[0.326 0.674]\n",
      "  [0.520 0.480]]\n",
      "\n",
      " [[0.589 0.411]\n",
      "  [0.438 0.562]]]\n",
      "[[[0.326 0.674]\n",
      "  [0.520 0.480]]\n",
      "\n",
      " [[0.589 0.411]\n",
      "  [0.438 0.562]]]\n",
      "\n"
     ]
    }
   ],
   "source": [
    "trol_list = []\n",
    "unobs_nd_list = []\n",
    "doX_bnet = DoX_BayesNet.DoX_BayesNet(in_bnet,\n",
    "                        trol_list,\n",
    "                        unobs_nd_list,\n",
    "                        x_val=0)\n",
    "doX_bnet.draw(algo_num=1)\n",
    "print_bnet(doX_bnet)"
   ]
  },
  {
   "cell_type": "markdown",
   "id": "eaa15497-d2fc-40c1-8192-b13997c853db",
   "metadata": {},
   "source": [
    "## Node Z is control, no unobserved nodes"
   ]
  },
  {
   "cell_type": "code",
   "execution_count": 7,
   "id": "c98838cc-7d5f-42ac-9f4f-9b515e23b608",
   "metadata": {},
   "outputs": [
    {
     "name": "stdout",
     "output_type": "stream",
     "text": [
      "world:\n",
      "0, 1, 2\n",
      "control nodes: ['Z']\n",
      "control coords to query bounds (low, high):\n",
      "{(0,): array([0.672, 0.678]), (1,): array([0.409, 0.413])}\n",
      "control coords to query statistics (mu, sigma):\n",
      "{(0,): array([0.675, 0.002]), (1,): array([0.411, 0.001])}\n"
     ]
    },
    {
     "data": {
      "image/png": "[encoded data removed]",
      "text/plain": [
       "<Figure size 432x288 with 1 Axes>"
      ]
     },
     "metadata": {
      "needs_background": "light"
     },
     "output_type": "display_data"
    }
   ],
   "source": [
    "nd_Z = in_bnet.get_node_named(\"Z\")\n",
    "trol_list = [nd_Z]\n",
    "unobs_nd_list = []\n",
    "doX_bnet.set_trol_and_unobs_nodes(trol_list, unobs_nd_list)\n",
    "checker = IdentifiabilityChecker.IdentifiabilityChecker(doX_bnet,\n",
    "                          num_1world_samples=50000,\n",
    "                          num_worlds=3)\n",
    "checker.set_query_bds_and_stats()\n",
    "print(\"control nodes:\",\n",
    "      [nd.name for nd in checker.trol_list])\n",
    "print(\"control coords to query bounds (low, high):\")\n",
    "pprint(dict(checker.get_query_bds()))\n",
    "print(\"control coords to query statistics (mu, sigma):\")\n",
    "pprint(dict(checker.get_query_stats()))\n",
    "Plotter_nz.plot_query_bds(checker.get_query_bds(),\n",
    "    zname_to_query_stats=checker.get_query_stats(),\n",
    "    horizontal=True)"
   ]
  },
  {
   "cell_type": "markdown",
   "id": "d32ddf4c-9858-4b46-b424-0bfb126ec0fd",
   "metadata": {},
   "source": [
    "## Node Z is unobserved, no control nodes"
   ]
  },
  {
   "cell_type": "code",
   "execution_count": 8,
   "id": "06f4d097-2d8f-48ac-a59f-688378300441",
   "metadata": {},
   "outputs": [
    {
     "name": "stdout",
     "output_type": "stream",
     "text": [
      "world:\n",
      "0, 1, 2, 3, 4, 5, 6, 7, 8, 9\n",
      "10, 11, 12, 13, 14, 15, 16, 17, 18, 19\n",
      "20, 21, 22, 23, 24, 25, 26, 27, 28, 29\n",
      "30, 31, 32, 33, 34, 35, 36, 37, 38, 39\n",
      "40, 41, 42, 43, 44, 45, 46, 47, 48, 49\n",
      "50, 51, 52, 53, 54, 55, 56, 57, 58, 59\n",
      "60, 61, 62, 63, 64, 65, 66, 67, 68, 69\n",
      "70, 71, 72, 73, 74, 75, 76, 77, 78, 79\n",
      "80, 81, 82, 83, 84, 85, 86, 87, 88, 89\n",
      "90, 91, 92, 93, 94, 95, 96, 97, 98, 99\n",
      "control nodes: []\n",
      "control coords to query bounds (low, high):\n",
      "{(): array([0.415, 0.648])}\n",
      "control coords to query statistics (mu, sigma):\n",
      "{(): array([0.531, 0.058])}\n"
     ]
    },
    {
     "data": {
      "image/png": "[encoded data removed]",
      "text/plain": [
       "<Figure size 432x288 with 1 Axes>"
      ]
     },
     "metadata": {
      "needs_background": "light"
     },
     "output_type": "display_data"
    }
   ],
   "source": [
    "nd_Z = in_bnet.get_node_named(\"Z\")\n",
    "trol_list = []\n",
    "unobs_nd_list = [nd_Z]\n",
    "doX_bnet.set_trol_and_unobs_nodes(trol_list, unobs_nd_list)\n",
    "checker = IdentifiabilityChecker.IdentifiabilityChecker(doX_bnet,\n",
    "                          num_1world_samples=10000,\n",
    "                          num_worlds=100)\n",
    "checker.set_query_bds_and_stats()\n",
    "print(\"control nodes:\",\n",
    "      [nd.name for nd in checker.trol_list])\n",
    "print(\"control coords to query bounds (low, high):\")\n",
    "pprint(dict(checker.get_query_bds()))\n",
    "print(\"control coords to query statistics (mu, sigma):\")\n",
    "pprint(dict(checker.get_query_stats()))\n",
    "Plotter_nz.plot_query_bds(checker.get_query_bds(),\n",
    "    zname_to_query_stats=checker.get_query_stats(),\n",
    "    horizontal=True)"
   ]
  },
  {
   "cell_type": "markdown",
   "id": "2fcb8d71-11e9-405f-baaa-4ca89127d09f",
   "metadata": {},
   "source": [
    "## No unobserved or control nodes"
   ]
  },
  {
   "cell_type": "code",
   "execution_count": 9,
   "id": "83ceb778-693c-495b-9f02-ad11cde173a0",
   "metadata": {},
   "outputs": [
    {
     "name": "stdout",
     "output_type": "stream",
     "text": [
      "world:\n",
      "0, 1, 2\n",
      "control nodes: []\n",
      "control coords to query bounds (low, high):\n",
      "{(): array([0.456, 0.469])}\n",
      "control coords to query statistics (mu, sigma):\n",
      "{(): array([0.463, 0.005])}\n"
     ]
    },
    {
     "data": {
      "image/png": "[encoded data removed]",
      "text/plain": [
       "<Figure size 432x288 with 1 Axes>"
      ]
     },
     "metadata": {
      "needs_background": "light"
     },
     "output_type": "display_data"
    }
   ],
   "source": [
    "trol_list = []\n",
    "unobs_nd_list = []\n",
    "doX_bnet.set_trol_and_unobs_nodes(trol_list, unobs_nd_list)\n",
    "checker = IdentifiabilityChecker.IdentifiabilityChecker(doX_bnet,\n",
    "                          num_1world_samples=10000,\n",
    "                          num_worlds=3)\n",
    "checker.set_query_bds_and_stats()\n",
    "print(\"control nodes:\",\n",
    "      [nd.name for nd in checker.trol_list])\n",
    "print(\"control coords to query bounds (low, high):\")\n",
    "pprint(dict(checker.get_query_bds()))\n",
    "print(\"control coords to query statistics (mu, sigma):\")\n",
    "pprint(dict(checker.get_query_stats()))\n",
    "Plotter_nz.plot_query_bds(checker.get_query_bds(),\n",
    "    zname_to_query_stats=checker.get_query_stats(),\n",
    "    horizontal=True)"
   ]
  },
  {
   "cell_type": "markdown",
   "id": "fd49a534-20fc-493f-93ac-1ba55c7fce8e",
   "metadata": {},
   "source": [
    "Next we check that the Backdoor Adjustment Formula holds.\n",
    "$$P(Y=1|do(X)=0) = \\sum_z P(y|x,z)P(z)$$"
   ]
  },
  {
   "cell_type": "code",
   "execution_count": 10,
   "id": "914029b2-bbda-4f22-ad6d-5f850ee09de2",
   "metadata": {},
   "outputs": [
    {
     "name": "stdout",
     "output_type": "stream",
     "text": [
      "[[0.542 0.458]\n",
      " [0.453 0.547]]\n"
     ]
    }
   ],
   "source": [
    "# entry (0,1) of the following matrix is the Backdoor Adjustment Formula prediction\n",
    "# for mean mu in \"control coords to query statistics\" above.\n",
    "nd_Z = doX_bnet.get_node_named(\"Z\")\n",
    "nd_Y = doX_bnet.get_node_named(\"Y\")\n",
    "nd_X = doX_bnet.get_node_named(\"X\")\n",
    "pot_YZbX = nd_Y.potential*nd_Z.potential\n",
    "pot_YbX = pot_YZbX.get_new_marginal([nd_X, nd_Y])\n",
    "pot_YbX.set_to_transpose([nd_X, nd_Y])\n",
    "print(pot_YbX.pot_arr)"
   ]
  },
  {
   "cell_type": "code",
   "execution_count": null,
   "id": "4312e493-b278-461f-b3da-e7d1ee8c0fba",
   "metadata": {},
   "outputs": [],
   "source": []
  }
 ],
 "metadata": {
  "kernelspec": {
   "display_name": "Python 3 (ipykernel)",
   "language": "python",
   "name": "python3"
  },
  "language_info": {
   "codemirror_mode": {
    "name": "ipython",
    "version": 3
   },
   "file_extension": ".py",
   "mimetype": "text/x-python",
   "name": "python",
   "nbconvert_exporter": "python",
   "pygments_lexer": "ipython3",
   "version": "3.9.0"
  }
 },
 "nbformat": 4,
 "nbformat_minor": 5
}
