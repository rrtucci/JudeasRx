{
 "cells": [
  {
   "cell_type": "markdown",
   "id": "75850417-5260-4e5a-8d0c-aae1718addd3",
   "metadata": {},
   "source": [
    "# Identifiability and Backdoor Criterion\n",
    "\n",
    "This notebook explores identifiability via the IdentifiabiltyChecker, for the simple triangle graph\n",
    "with nodes X,Y, Z and arrows X->Y and X<-Z->Y "
   ]
  },
  {
   "cell_type": "code",
   "execution_count": 1,
   "id": "9da5b20f-fcdd-4376-adee-4d7d63bfca9e",
   "metadata": {},
   "outputs": [
    {
     "name": "stdout",
     "output_type": "stream",
     "text": [
      "/home/rrtucci/PycharmProjects/JudeasRx\n"
     ]
    }
   ],
   "source": [
    "# this makes sure it starts looking for things from the JudeasRx folder down.\n",
    "import os\n",
    "import sys\n",
    "os.chdir('../')\n",
    "sys.path.insert(0,os.getcwd())\n",
    "print(os.getcwd())"
   ]
  },
  {
   "cell_type": "code",
   "execution_count": 2,
   "id": "cce29474-223d-41e5-9251-d2afd0aec381",
   "metadata": {},
   "outputs": [],
   "source": [
    "from DoX_BayesNet import DoX_BayesNet\n",
    "import DoX_BayesNet\n",
    "from graphs.BayesNet import *\n",
    "from nodes.BayesNode import *\n",
    "from IdentifiabilityChecker import IdentifiabilityChecker\n",
    "import IdentifiabilityChecker\n",
    "import imp\n",
    "from pprint import pprint\n",
    "%matplotlib inline"
   ]
  },
  {
   "cell_type": "code",
   "execution_count": 3,
   "id": "29b6f98d-3845-4c2d-8d2d-4284e8ba7d98",
   "metadata": {},
   "outputs": [],
   "source": [
    "def print_bnet(bnet):\n",
    "    for nd in bnet.nodes:\n",
    "        print(nd.name, \", parents=\" + str([x.name for x in nd.parents]),\n",
    "              \", children=\" + str([x.name for x in nd.children]))\n",
    "        print(nd.potential.pot_arr)\n",
    "        print()"
   ]
  },
  {
   "cell_type": "markdown",
   "id": "af1e5ec0-311c-4b01-b908-cdd6f18d0809",
   "metadata": {},
   "source": [
    "## Building in_bnet"
   ]
  },
  {
   "cell_type": "code",
   "execution_count": 4,
   "id": "fa13bdea-6abe-4614-b26b-0eb3fd349671",
   "metadata": {},
   "outputs": [
    {
     "data": {
      "image/png": "[encoded data removed]",
      "text/plain": [
       "<Figure size 432x288 with 1 Axes>"
      ]
     },
     "metadata": {},
     "output_type": "display_data"
    },
    {
     "name": "stdout",
     "output_type": "stream",
     "text": [
      "X , parents=['Z'] , children=['Y']\n",
      "[[0.677 0.323]\n",
      " [0.483 0.517]]\n",
      "\n",
      "Z , parents=[] , children=['X', 'Y']\n",
      "[0.473 0.527]\n",
      "\n",
      "Y , parents=['X', 'Z'] , children=[]\n",
      "[[[0.445 0.555]\n",
      "  [0.644 0.356]]\n",
      "\n",
      " [[0.574 0.426]\n",
      "  [0.960 0.040]]]\n",
      "\n"
     ]
    }
   ],
   "source": [
    "def build_in_bnet(draw=True):\n",
    "    nd_X = BayesNode(0, name=\"X\")\n",
    "    nd_Y = BayesNode(1, name=\"Y\")\n",
    "    nd_Z = BayesNode(2, name=\"Z\")\n",
    "\n",
    "    nd_Y.add_parents({nd_X, nd_Z})\n",
    "    nd_X.add_parents({nd_Z})\n",
    "\n",
    "    nodes = {nd_X, nd_Y, nd_Z}\n",
    "    in_bnet = BayesNet(nodes)\n",
    "\n",
    "    # in general\n",
    "    # DiscreteCondPot(False, [y1, y2, y3, x]) refers to P(x| y1, y2, y3)\n",
    "    nd_Z.potential = DiscreteUniPot(False, nd_Z)  # P(a)\n",
    "    nd_X.potential = DiscreteCondPot(False, [nd_Z, nd_X])  # P(b| a)\n",
    "    nd_Y.potential = DiscreteCondPot(False, [nd_Z, nd_X, nd_Y])\n",
    "    for nd in nodes:\n",
    "        nd.potential.set_to_random()\n",
    "        nd.potential.normalize_self()\n",
    "    if draw:\n",
    "        in_bnet.draw(algo_num=1)\n",
    "    return in_bnet\n",
    "\n",
    "    \n",
    "in_bnet = build_in_bnet(True)\n",
    "print_bnet(in_bnet)"
   ]
  },
  {
   "cell_type": "markdown",
   "id": "70194c28-1fd5-47bb-9bdd-4b52e6197f13",
   "metadata": {},
   "source": [
    "## Building doX bnet"
   ]
  },
  {
   "cell_type": "code",
   "execution_count": 5,
   "id": "6910c123-a933-484d-ba3d-5b0160d035b5",
   "metadata": {},
   "outputs": [
    {
     "data": {
      "image/png": "[encoded data removed]",
      "text/plain": [
       "<Figure size 432x288 with 1 Axes>"
      ]
     },
     "metadata": {},
     "output_type": "display_data"
    },
    {
     "name": "stdout",
     "output_type": "stream",
     "text": [
      "X , parents=[] , children=['Y']\n",
      "[1.000 0.000]\n",
      "\n",
      "Z , parents=[] , children=['Y']\n",
      "[0.473 0.527]\n",
      "\n",
      "Y , parents=['X', 'Z'] , children=[]\n",
      "[[[0.445 0.555]\n",
      "  [0.644 0.356]]\n",
      "\n",
      " [[0.574 0.426]\n",
      "  [0.960 0.040]]]\n",
      "\n"
     ]
    }
   ],
   "source": [
    "unobs_nd_list = []\n",
    "trol_list = []\n",
    "doX_bnet = DoX_BayesNet.DoX_BayesNet(in_bnet,\n",
    "                        unobs_nd_list,\n",
    "                        trol_list,\n",
    "                        x_val=0)\n",
    "doX_bnet.draw(algo_num=1)\n",
    "print_bnet(doX_bnet)"
   ]
  },
  {
   "cell_type": "markdown",
   "id": "eaa15497-d2fc-40c1-8192-b13997c853db",
   "metadata": {},
   "source": [
    "## Node Z is control, no unobserved nodes"
   ]
  },
  {
   "cell_type": "code",
   "execution_count": 6,
   "id": "c98838cc-7d5f-42ac-9f4f-9b515e23b608",
   "metadata": {},
   "outputs": [
    {
     "name": "stdout",
     "output_type": "stream",
     "text": [
      "world 0\n",
      "world 1\n",
      "world 2\n",
      "control nodes: ['Z']\n",
      "{(0,): array([0.555, 0.557]), (1,): array([0.423, 0.429])}\n"
     ]
    }
   ],
   "source": [
    "nd_Z = in_bnet.get_node_named(\"Z\")\n",
    "doX_bnet.unobs_nd_list = []\n",
    "doX_bnet.trol_list = [nd_Z]\n",
    "checker = IdentifiabilityChecker.IdentifiabilityChecker(doX_bnet,\n",
    "                          num_1world_samples=50000,\n",
    "                          num_worlds=3)\n",
    "checker.set_query_bds()\n",
    "print(\"control nodes:\",\n",
    "      [nd.name for nd in checker.trol_list])\n",
    "pprint(checker.get_query_bds())"
   ]
  },
  {
   "cell_type": "markdown",
   "id": "d32ddf4c-9858-4b46-b424-0bfb126ec0fd",
   "metadata": {},
   "source": [
    "## Node Z is unobserved, no control nodes"
   ]
  },
  {
   "cell_type": "code",
   "execution_count": 7,
   "id": "06f4d097-2d8f-48ac-a59f-688378300441",
   "metadata": {},
   "outputs": [
    {
     "name": "stdout",
     "output_type": "stream",
     "text": [
      "world 0\n",
      "world 1\n",
      "world 2\n",
      "world 3\n",
      "world 4\n",
      "world 5\n",
      "world 6\n",
      "world 7\n",
      "world 8\n",
      "world 9\n",
      "world 10\n",
      "world 11\n",
      "world 12\n",
      "world 13\n",
      "world 14\n",
      "world 15\n",
      "world 16\n",
      "world 17\n",
      "world 18\n",
      "world 19\n",
      "control nodes: []\n",
      "{(): array([0.430, 0.564])}\n"
     ]
    }
   ],
   "source": [
    "nd_Z = in_bnet.get_node_named(\"Z\")\n",
    "doX_bnet.unobs_nd_list = [nd_Z]\n",
    "doX_bnet.trol_list = []\n",
    "checker = IdentifiabilityChecker.IdentifiabilityChecker(doX_bnet,\n",
    "                          num_1world_samples=5000,\n",
    "                          num_worlds=20)\n",
    "checker.set_query_bds()\n",
    "print(\"control nodes:\",\n",
    "      [nd.name for nd in checker.trol_list])\n",
    "pprint(checker.get_query_bds())"
   ]
  },
  {
   "cell_type": "markdown",
   "id": "2fcb8d71-11e9-405f-baaa-4ca89127d09f",
   "metadata": {},
   "source": [
    "## No unobserved or control nodes"
   ]
  },
  {
   "cell_type": "code",
   "execution_count": 8,
   "id": "83ceb778-693c-495b-9f02-ad11cde173a0",
   "metadata": {},
   "outputs": [
    {
     "name": "stdout",
     "output_type": "stream",
     "text": [
      "world 0\n",
      "world 1\n",
      "world 2\n",
      "control nodes: []\n",
      "{(): array([0.502, 0.507])}\n"
     ]
    }
   ],
   "source": [
    "doX_bnet.unobs_nd_list = []\n",
    "doX_bnet.trol_list = []\n",
    "checker = IdentifiabilityChecker.IdentifiabilityChecker(doX_bnet,\n",
    "                          num_1world_samples=50000,\n",
    "                          num_worlds=3)\n",
    "checker.set_query_bds()\n",
    "print(\"control nodes:\",\n",
    "      [nd.name for nd in checker.trol_list])\n",
    "pprint(checker.get_query_bds())"
   ]
  }
 ],
 "metadata": {
  "kernelspec": {
   "display_name": "Python 3 (ipykernel)",
   "language": "python",
   "name": "python3"
  },
  "language_info": {
   "codemirror_mode": {
    "name": "ipython",
    "version": 3
   },
   "file_extension": ".py",
   "mimetype": "text/x-python",
   "name": "python",
   "nbconvert_exporter": "python",
   "pygments_lexer": "ipython3",
   "version": "3.9.0"
  }
 },
 "nbformat": 4,
 "nbformat_minor": 5
}
