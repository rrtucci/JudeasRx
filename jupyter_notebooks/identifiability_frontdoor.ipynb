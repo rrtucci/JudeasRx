{
 "cells": [
  {
   "cell_type": "markdown",
   "id": "2891464c-49f8-4dc4-853a-afb96795d613",
   "metadata": {},
   "source": [
    "# Identifiability and Frontdoor Adjustment Formula\n",
    "\n",
    "This notebook explores identifiability via the IdentifiabiltyChecker, for the simple triangle graph\n",
    "with nodes X, M, Y, U and arrows X->M->Y and X<-U->Y.\n",
    "\n",
    "We verify that the Frontdoor Adjustmen Formula is satisfied."
   ]
  },
  {
   "cell_type": "code",
   "execution_count": 1,
   "id": "789d2ca0-4c11-42d8-8a08-4f437aaf1dc0",
   "metadata": {},
   "outputs": [
    {
     "name": "stdout",
     "output_type": "stream",
     "text": [
      "/home/rrtucci/PycharmProjects/JudeasRx\n"
     ]
    }
   ],
   "source": [
    "# this makes sure it starts looking for things from the JudeasRx folder down.\n",
    "import os\n",
    "import sys\n",
    "os.chdir('../')\n",
    "sys.path.insert(0,os.getcwd())\n",
    "print(os.getcwd())"
   ]
  },
  {
   "cell_type": "code",
   "execution_count": 2,
   "id": "8bbe8bc3-0b74-49ae-ba49-240bac44a405",
   "metadata": {},
   "outputs": [],
   "source": [
    "from DoX_BayesNet import DoX_BayesNet\n",
    "import DoX_BayesNet\n",
    "from graphs.BayesNet import *\n",
    "from nodes.BayesNode import *\n",
    "from IdentifiabilityChecker import IdentifiabilityChecker\n",
    "import IdentifiabilityChecker\n",
    "import imp\n",
    "from pprint import pprint\n",
    "import copy as cp\n",
    "%matplotlib inline"
   ]
  },
  {
   "cell_type": "code",
   "execution_count": 3,
   "id": "ff6901a5-5984-4308-bb2e-83674593d3e4",
   "metadata": {},
   "outputs": [
    {
     "data": {
      "text/plain": [
       "<module 'IdentifiabilityChecker' from '/home/rrtucci/PycharmProjects/JudeasRx/IdentifiabilityChecker.py'>"
      ]
     },
     "execution_count": 3,
     "metadata": {},
     "output_type": "execute_result"
    }
   ],
   "source": [
    "# this cell is for development purposes. Rerun this\n",
    "# every time there are changes to the code,\n",
    "# instead of restarting the kernel, which takes much longer.\n",
    "imp.reload(DoX_BayesNet)\n",
    "imp.reload(IdentifiabilityChecker)"
   ]
  },
  {
   "cell_type": "code",
   "execution_count": 4,
   "id": "3aca813d-ba1c-4ff4-b1d0-f0812e0dc006",
   "metadata": {},
   "outputs": [],
   "source": [
    "def print_bnet(bnet):\n",
    "    for nd in bnet.nodes:\n",
    "        print(nd.name, \", parents=\" + str([x.name for x in nd.parents]),\n",
    "              \", children=\" + str([x.name for x in nd.children]))\n",
    "        print(nd.potential)\n",
    "        print(nd.potential.pot_arr)\n",
    "        print()"
   ]
  },
  {
   "cell_type": "markdown",
   "id": "7ee9876c-a1f6-4006-a12b-94c4b963179f",
   "metadata": {},
   "source": [
    "## Building in_bnet"
   ]
  },
  {
   "cell_type": "code",
   "execution_count": 5,
   "id": "4e74f992-fc89-44d2-8f23-92ba1c1ab2e8",
   "metadata": {},
   "outputs": [
    {
     "data": {
      "image/png": "[encoded data removed]",
      "text/plain": [
       "<Figure size 432x288 with 1 Axes>"
      ]
     },
     "metadata": {},
     "output_type": "display_data"
    },
    {
     "name": "stdout",
     "output_type": "stream",
     "text": [
      "U , parents=[] , children=['X', 'Y']\n",
      "['U']\n",
      "[0.805 0.195]\n",
      "[0.805 0.195]\n",
      "\n",
      "X , parents=['U'] , children=['M']\n",
      "['U', 'X']\n",
      "[[0.471 0.529]\n",
      " [0.436 0.564]]\n",
      "[[0.471 0.529]\n",
      " [0.436 0.564]]\n",
      "\n",
      "Y , parents=['U', 'M'] , children=[]\n",
      "['M', 'U', 'Y']\n",
      "[[[0.055 0.945]\n",
      "  [0.979 0.021]]\n",
      "\n",
      " [[0.509 0.491]\n",
      "  [0.471 0.529]]]\n",
      "[[[0.055 0.945]\n",
      "  [0.979 0.021]]\n",
      "\n",
      " [[0.509 0.491]\n",
      "  [0.471 0.529]]]\n",
      "\n",
      "M , parents=['X'] , children=['Y']\n",
      "['X', 'M']\n",
      "[[0.290 0.710]\n",
      " [0.960 0.040]]\n",
      "[[0.290 0.710]\n",
      " [0.960 0.040]]\n",
      "\n"
     ]
    }
   ],
   "source": [
    "def build_in_bnet(draw=True):\n",
    "    nd_X = BayesNode(0, name=\"X\")\n",
    "    nd_M = BayesNode(1, name=\"M\")\n",
    "    nd_Y = BayesNode(2, name=\"Y\")\n",
    "    nd_U = BayesNode(3, name=\"U\")\n",
    "\n",
    "    nd_Y.add_parents({nd_M, nd_U})\n",
    "    nd_M.add_parents({nd_X})\n",
    "    nd_X.add_parents({nd_U})\n",
    "\n",
    "    nodes = {nd_X, nd_M, nd_Y, nd_U}\n",
    "    in_bnet = BayesNet(nodes)\n",
    "\n",
    "    # in general\n",
    "    # DiscreteCondPot(False, [y1, y2, y3, x]) refers to P(x| y1, y2, y3)\n",
    "    nd_U.potential = DiscreteUniPot(False, nd_U)  # P(a)\n",
    "    nd_X.potential = DiscreteCondPot(False, [nd_U, nd_X])  # P(b| a)\n",
    "    nd_M.potential = DiscreteCondPot(False, [nd_X, nd_M]) \n",
    "    nd_Y.potential = DiscreteCondPot(False, [nd_M, nd_U, nd_Y])\n",
    "    for nd in nodes:\n",
    "        nd.potential.set_to_random()\n",
    "        nd.potential.normalize_self()\n",
    "    if draw:\n",
    "        in_bnet.draw(algo_num=1)\n",
    "    return in_bnet\n",
    "\n",
    "    \n",
    "in_bnet = build_in_bnet(True)\n",
    "print_bnet(in_bnet)"
   ]
  },
  {
   "cell_type": "markdown",
   "id": "4d3de025-1bc9-4791-b25a-dd9f2095d9ca",
   "metadata": {},
   "source": [
    "Frontdoor Adjustment Formula:\n",
    "$$P(Y=1|do(X)=0) = \\sum_m \\left[\\sum_{x'} P(y=1|m, x')P(x')\\right]P(m|x=0)$$"
   ]
  },
  {
   "cell_type": "code",
   "execution_count": 6,
   "id": "e0a45e18-8274-4ce5-a2b1-387867e3de82",
   "metadata": {},
   "outputs": [],
   "source": [
    "nd_U = in_bnet.get_node_named(\"U\")\n",
    "nd_M = in_bnet.get_node_named(\"M\")\n",
    "nd_Y = in_bnet.get_node_named(\"Y\")\n",
    "nd_X = in_bnet.get_node_named(\"X\")\n",
    "\n",
    "pot_XYMU = nd_X.potential*nd_Y.potential*nd_M.potential*nd_U.potential\n",
    "pot_XYM = pot_XYMU.get_new_marginal([nd_X, nd_Y, nd_M])\n",
    "pot_XM = pot_XYM.get_new_marginal([nd_X, nd_M])\n",
    "pot_X = pot_XM.get_new_marginal([nd_X])\n",
    "\n",
    "pot_YXbM = (pot_XYM/pot_XM)*pot_X\n",
    "pot_YbM = pot_YXbM.get_new_marginal([nd_Y, nd_M])\n",
    "pot_MbX= nd_M.potential\n",
    "pot_YMbX = pot_YbM*pot_MbX\n",
    "pot_YbX = pot_YMbX.get_new_marginal([nd_Y, nd_X])\n",
    "pot_YbX.set_to_transpose([nd_X, nd_Y])\n",
    "frontdoor_pot_YbX= pot_YbX.pot_arr"
   ]
  },
  {
   "cell_type": "markdown",
   "id": "22e3e0da-2f88-44f7-8322-bae547b4d07a",
   "metadata": {},
   "source": [
    "## Building doX bnet"
   ]
  },
  {
   "cell_type": "code",
   "execution_count": 7,
   "id": "96c10b03-cae7-4d93-961e-fd842b522610",
   "metadata": {},
   "outputs": [
    {
     "data": {
      "image/png": "[encoded data removed]",
      "text/plain": [
       "<Figure size 432x288 with 1 Axes>"
      ]
     },
     "metadata": {},
     "output_type": "display_data"
    },
    {
     "name": "stdout",
     "output_type": "stream",
     "text": [
      "U , parents=[] , children=['Y']\n",
      "['U']\n",
      "[0.805 0.195]\n",
      "[0.805 0.195]\n",
      "\n",
      "X , parents=[] , children=['M']\n",
      "['X']\n",
      "[1.000 0.000]\n",
      "[1.000 0.000]\n",
      "\n",
      "Y , parents=['U', 'M'] , children=[]\n",
      "['M', 'U', 'Y']\n",
      "[[[0.055 0.945]\n",
      "  [0.979 0.021]]\n",
      "\n",
      " [[0.509 0.491]\n",
      "  [0.471 0.529]]]\n",
      "[[[0.055 0.945]\n",
      "  [0.979 0.021]]\n",
      "\n",
      " [[0.509 0.491]\n",
      "  [0.471 0.529]]]\n",
      "\n",
      "M , parents=['X'] , children=['Y']\n",
      "['X', 'M']\n",
      "[[0.290 0.710]\n",
      " [0.960 0.040]]\n",
      "[[0.290 0.710]\n",
      " [0.960 0.040]]\n",
      "\n"
     ]
    }
   ],
   "source": [
    "trol_list = []\n",
    "unobs_nd_list = []\n",
    "doX_bnet = DoX_BayesNet.DoX_BayesNet(in_bnet,\n",
    "                        trol_list,\n",
    "                        unobs_nd_list,\n",
    "                        x_val=0)\n",
    "doX_bnet.draw(algo_num=1)\n",
    "print_bnet(doX_bnet)"
   ]
  },
  {
   "cell_type": "markdown",
   "id": "b3531fd9-c2c5-420e-a33d-cd1a50125698",
   "metadata": {},
   "source": [
    "## Node U is unobserved, no control nodes"
   ]
  },
  {
   "cell_type": "code",
   "execution_count": 8,
   "id": "5467b60a-5f39-44e0-bb1e-57c4ca9568b1",
   "metadata": {},
   "outputs": [
    {
     "name": "stdout",
     "output_type": "stream",
     "text": [
      "world 0\n",
      "world 1\n",
      "world 2\n",
      "world 3\n",
      "world 4\n",
      "world 5\n",
      "world 6\n",
      "world 7\n",
      "world 8\n",
      "world 9\n",
      "world 10\n",
      "world 11\n",
      "world 12\n",
      "world 13\n",
      "world 14\n",
      "control nodes: []\n",
      "control_coords_to_query_bds (low, high):\n",
      "{(): array([0.397, 0.606])}\n",
      "control_coords_to_query_stats (mu, sigma):\n",
      "{(): array([0.478, 0.053])}\n"
     ]
    }
   ],
   "source": [
    "nd_U = in_bnet.get_node_named(\"U\")\n",
    "trol_list = []\n",
    "unobs_nd_list = [nd_U]\n",
    "doX_bnet.set_trol_and_unobs_nodes(trol_list, unobs_nd_list)\n",
    "checker = IdentifiabilityChecker.IdentifiabilityChecker(doX_bnet,\n",
    "                          num_1world_samples=50000,\n",
    "                          num_worlds=15)\n",
    "checker.set_query_bds_and_stats()\n",
    "print(\"control nodes:\",\n",
    "      [nd.name for nd in checker.trol_list])\n",
    "print(\"control_coords_to_query_bds (low, high):\")\n",
    "pprint(checker.get_query_bds())\n",
    "print(\"control_coords_to_query_stats (mu, sigma):\")\n",
    "pprint(checker.get_query_stats())"
   ]
  },
  {
   "cell_type": "code",
   "execution_count": 9,
   "id": "f9d421fa-1fe6-4179-b86c-7f960d9c676c",
   "metadata": {},
   "outputs": [
    {
     "name": "stdout",
     "output_type": "stream",
     "text": [
      "[[0.425 0.575]\n",
      " [0.246 0.754]]\n"
     ]
    }
   ],
   "source": [
    "print(frontdoor_pot_YbX)"
   ]
  },
  {
   "cell_type": "code",
   "execution_count": null,
   "id": "0a5014a4-c2ba-4397-99aa-dce652d81d57",
   "metadata": {},
   "outputs": [],
   "source": []
  }
 ],
 "metadata": {
  "kernelspec": {
   "display_name": "Python 3 (ipykernel)",
   "language": "python",
   "name": "python3"
  },
  "language_info": {
   "codemirror_mode": {
    "name": "ipython",
    "version": 3
   },
   "file_extension": ".py",
   "mimetype": "text/x-python",
   "name": "python",
   "nbconvert_exporter": "python",
   "pygments_lexer": "ipython3",
   "version": "3.9.0"
  }
 },
 "nbformat": 4,
 "nbformat_minor": 5
}
