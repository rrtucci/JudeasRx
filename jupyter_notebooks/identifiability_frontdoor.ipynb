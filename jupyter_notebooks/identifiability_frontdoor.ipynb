{
 "cells": [
  {
   "cell_type": "markdown",
   "id": "2891464c-49f8-4dc4-853a-afb96795d613",
   "metadata": {},
   "source": [
    "# Identifiability and Frontdoor Adjustment Formula\n",
    "\n",
    "This notebook explores identifiability via the IdentifiabiltyChecker, for the simple triangle graph\n",
    "with nodes X, M, Y, U and arrows X->M->Y and X<-U->Y.\n",
    "\n",
    "We verify that the Frontdoor Adjustmen Formula is satisfied."
   ]
  },
  {
   "cell_type": "code",
   "execution_count": 1,
   "id": "789d2ca0-4c11-42d8-8a08-4f437aaf1dc0",
   "metadata": {},
   "outputs": [
    {
     "name": "stdout",
     "output_type": "stream",
     "text": [
      "C:\\Users\\rrtuc\\Desktop\\backed-up\\python-projects\\JudeasRx\n"
     ]
    }
   ],
   "source": [
    "# this makes sure it starts looking for things from the JudeasRx folder down.\n",
    "import os\n",
    "import sys\n",
    "os.chdir('../')\n",
    "sys.path.insert(0,os.getcwd())\n",
    "print(os.getcwd())"
   ]
  },
  {
   "cell_type": "code",
   "execution_count": 2,
   "id": "8bbe8bc3-0b74-49ae-ba49-240bac44a405",
   "metadata": {},
   "outputs": [
    {
     "name": "stderr",
     "output_type": "stream",
     "text": [
      "WARNING (theano.tensor.blas): Using NumPy C-API based implementation for BLAS functions.\n"
     ]
    }
   ],
   "source": [
    "from DoX_BayesNet import *\n",
    "from graphs.BayesNet import *\n",
    "from nodes.BayesNode import *\n",
    "from IdentifiabilityChecker import *\n",
    "from Plotter_nz import *\n",
    "import imp\n",
    "from pprint import pprint\n",
    "import copy as cp\n",
    "%matplotlib inline"
   ]
  },
  {
   "cell_type": "code",
   "execution_count": 3,
   "id": "d5ecf4c5-b5fd-41f3-96a4-29c42d14fdf7",
   "metadata": {},
   "outputs": [],
   "source": [
    "# pots of in_bnet will be selected at random\n",
    "import random\n",
    "random.seed(871)"
   ]
  },
  {
   "cell_type": "markdown",
   "id": "7ee9876c-a1f6-4006-a12b-94c4b963179f",
   "metadata": {},
   "source": [
    "## Building in_bnet"
   ]
  },
  {
   "cell_type": "code",
   "execution_count": 4,
   "id": "4e74f992-fc89-44d2-8f23-92ba1c1ab2e8",
   "metadata": {},
   "outputs": [
    {
     "data": {
      "image/png": "[encoded data removed]",
      "text/plain": [
       "<IPython.core.display.Image object>"
      ]
     },
     "metadata": {},
     "output_type": "display_data"
    },
    {
     "name": "stdout",
     "output_type": "stream",
     "text": [
      "Y, parents=['U', 'M'], children=[]\n",
      "['M', 'U', 'Y']\n",
      "[[[0.708 0.292]\n",
      "  [0.526 0.474]]\n",
      "\n",
      " [[0.847 0.153]\n",
      "  [0.561 0.439]]]\n",
      "\n",
      "X, parents=['U'], children=['M']\n",
      "['U', 'X']\n",
      "[[0.356 0.644]\n",
      " [0.605 0.395]]\n",
      "\n",
      "U, parents=[], children=['Y', 'X']\n",
      "['U']\n",
      "[0.180 0.820]\n",
      "\n",
      "M, parents=['X'], children=['Y']\n",
      "['X', 'M']\n",
      "[[0.402 0.598]\n",
      " [0.537 0.463]]\n",
      "\n",
      "\n"
     ]
    }
   ],
   "source": [
    "def build_in_bnet(draw):\n",
    "    nd_X = BayesNode(0, name=\"X\")\n",
    "    nd_M = BayesNode(1, name=\"M\")\n",
    "    nd_Y = BayesNode(2, name=\"Y\")\n",
    "    nd_U = BayesNode(3, name=\"U\")\n",
    "\n",
    "    nd_Y.add_parents({nd_M, nd_U})\n",
    "    nd_M.add_parents({nd_X})\n",
    "    nd_X.add_parents({nd_U})\n",
    "\n",
    "    nodes = {nd_X, nd_M, nd_Y, nd_U}\n",
    "    in_bnet = BayesNet(nodes)\n",
    "\n",
    "    # in general\n",
    "    # DiscreteCondPot(False, [y1, y2, y3, x]) refers to P(x| y1, y2, y3)\n",
    "    nd_U.potential = DiscreteUniPot(False, nd_U)  # P(a)\n",
    "    nd_X.potential = DiscreteCondPot(False, [nd_U, nd_X])  # P(b| a)\n",
    "    nd_M.potential = DiscreteCondPot(False, [nd_X, nd_M]) \n",
    "    nd_Y.potential = DiscreteCondPot(False, [nd_M, nd_U, nd_Y])\n",
    "    for nd in nodes:\n",
    "        nd.potential.set_to_random()\n",
    "        nd.potential.normalize_self()\n",
    "    if draw:\n",
    "        in_bnet.gv_draw()\n",
    "    return in_bnet\n",
    "\n",
    "    \n",
    "in_bnet = build_in_bnet(True)\n",
    "print(in_bnet)"
   ]
  },
  {
   "cell_type": "markdown",
   "id": "4cb4bfed-16dc-44f9-8787-466cbee43c8c",
   "metadata": {},
   "source": [
    "## Frontdoor Adjustment Formula\n",
    "$$P(y|do(X)=x) = \\sum_m \\left[\\sum_{x'} P(y|m, x')P(x')\\right]P(m|x)$$"
   ]
  },
  {
   "cell_type": "code",
   "execution_count": 5,
   "id": "e0a45e18-8274-4ce5-a2b1-387867e3de82",
   "metadata": {},
   "outputs": [],
   "source": [
    "nd_U = in_bnet.get_node_named(\"U\")\n",
    "nd_M = in_bnet.get_node_named(\"M\")\n",
    "nd_Y = in_bnet.get_node_named(\"Y\")\n",
    "nd_X = in_bnet.get_node_named(\"X\")\n",
    "\n",
    "pot_XYMU = nd_X.potential*nd_Y.potential*nd_M.potential*nd_U.potential\n",
    "pot_XYM = pot_XYMU.get_new_marginal([nd_X, nd_Y, nd_M])\n",
    "pot_XM = pot_XYM.get_new_marginal([nd_X, nd_M])\n",
    "pot_X = pot_XM.get_new_marginal([nd_X])\n",
    "\n",
    "pot_YXbM = (pot_XYM/pot_XM)*pot_X\n",
    "pot_YbM = pot_YXbM.get_new_marginal([nd_Y, nd_M])\n",
    "pot_MbX= nd_M.potential\n",
    "pot_YMbX = pot_YbM*pot_MbX\n",
    "pot_YbX = pot_YMbX.get_new_marginal([nd_Y, nd_X])\n",
    "pot_YbX.set_to_transpose([nd_X, nd_Y])\n",
    "def print_fdoor_prediction():\n",
    "    print(\"Frontdoor Adjustment Formula prediction for query P(y|do(x))=\")\n",
    "    print(\"(x is row index, y is column index)\")\n",
    "    print(pot_YbX.pot_arr)"
   ]
  },
  {
   "cell_type": "markdown",
   "id": "22e3e0da-2f88-44f7-8322-bae547b4d07a",
   "metadata": {},
   "source": [
    "## Building doX bnet"
   ]
  },
  {
   "cell_type": "code",
   "execution_count": 6,
   "id": "96c10b03-cae7-4d93-961e-fd842b522610",
   "metadata": {},
   "outputs": [
    {
     "data": {
      "image/png": "[encoded data removed]",
      "text/plain": [
       "<IPython.core.display.Image object>"
      ]
     },
     "metadata": {},
     "output_type": "display_data"
    },
    {
     "name": "stdout",
     "output_type": "stream",
     "text": [
      "Y, parents=['U', 'M'], children=[]\n",
      "['M', 'U', 'Y']\n",
      "[[[0.708 0.292]\n",
      "  [0.526 0.474]]\n",
      "\n",
      " [[0.847 0.153]\n",
      "  [0.561 0.439]]]\n",
      "\n",
      "X, parents=[], children=['M']\n",
      "['X']\n",
      "[1.000 0.000]\n",
      "\n",
      "U, parents=[], children=['Y']\n",
      "['U']\n",
      "[0.180 0.820]\n",
      "\n",
      "M, parents=['X'], children=['Y']\n",
      "['X', 'M']\n",
      "[[0.402 0.598]\n",
      " [0.537 0.463]]\n",
      "\n",
      "\n"
     ]
    }
   ],
   "source": [
    "trol_list = []\n",
    "unobs_nd_list = []\n",
    "doX_bnet = DoX_BayesNet(in_bnet,\n",
    "                        trol_list,\n",
    "                        unobs_nd_list,\n",
    "                        x_val=0)\n",
    "doX_bnet.gv_draw()\n",
    "print(doX_bnet)"
   ]
  },
  {
   "cell_type": "markdown",
   "id": "b3531fd9-c2c5-420e-a33d-cd1a50125698",
   "metadata": {},
   "source": [
    "## Node U is unobserved, no control nodes"
   ]
  },
  {
   "cell_type": "code",
   "execution_count": 7,
   "id": "5467b60a-5f39-44e0-bb1e-57c4ca9568b1",
   "metadata": {},
   "outputs": [
    {
     "name": "stdout",
     "output_type": "stream",
     "text": [
      "world:\n",
      "0, 1, 2, 3, 4, 5, 6, 7, 8, 9\n",
      "10, 11, 12, 13, 14, 15, 16, 17, 18, 19\n",
      "20, 21, 22, 23, 24, 25, 26, 27, 28, 29\n",
      "30, 31, 32, 33, 34, 35, 36, 37, 38, 39\n",
      "40, 41, 42, 43, 44, 45, 46, 47, 48, 49\n",
      "50, 51, 52, 53, 54, 55, 56, 57, 58, 59\n",
      "60, 61, 62, 63, 64, 65, 66, 67, 68, 69\n",
      "70, 71, 72, 73, 74, 75, 76, 77, 78, 79\n",
      "80, 81, 82, 83, 84, 85, 86, 87, 88, 89\n",
      "90, 91, 92, 93, 94, 95, 96, 97, 98, 99\n",
      "x_value= 0\n",
      "control nodes: []\n",
      "control coords to query bounds (low, high):\n",
      "{(): array([0.225, 0.450])}\n",
      "control coords to query statistics (mu, sigma):\n",
      "{(): array([0.338, 0.056])}\n"
     ]
    },
    {
     "data": {
      "image/png": "[encoded data removed]",
      "text/plain": [
       "<Figure size 432x288 with 1 Axes>"
      ]
     },
     "metadata": {
      "needs_background": "light"
     },
     "output_type": "display_data"
    },
    {
     "name": "stdout",
     "output_type": "stream",
     "text": [
      "world:\n",
      "0, 1, 2, 3, 4, 5, 6, 7, 8, 9\n",
      "10, 11, 12, 13, 14, 15, 16, 17, 18, 19\n",
      "20, 21, 22, 23, 24, 25, 26, 27, 28, 29\n",
      "30, 31, 32, 33, 34, 35, 36, 37, 38, 39\n",
      "40, 41, 42, 43, 44, 45, 46, 47, 48, 49\n",
      "50, 51, 52, 53, 54, 55, 56, 57, 58, 59\n",
      "60, 61, 62, 63, 64, 65, 66, 67, 68, 69\n",
      "70, 71, 72, 73, 74, 75, 76, 77, 78, 79\n",
      "80, 81, 82, 83, 84, 85, 86, 87, 88, 89\n",
      "90, 91, 92, 93, 94, 95, 96, 97, 98, 99\n",
      "x_value= 1\n",
      "control nodes: []\n",
      "control coords to query bounds (low, high):\n",
      "{(): array([0.225, 0.453])}\n",
      "control coords to query statistics (mu, sigma):\n",
      "{(): array([0.348, 0.052])}\n"
     ]
    },
    {
     "data": {
      "image/png": "[encoded data removed]",
      "text/plain": [
       "<Figure size 432x288 with 1 Axes>"
      ]
     },
     "metadata": {
      "needs_background": "light"
     },
     "output_type": "display_data"
    }
   ],
   "source": [
    "nd_U = in_bnet.get_node_named(\"U\")\n",
    "trol_list = []\n",
    "unobs_nd_list = [nd_U]\n",
    "doX_bnet.set_trol_and_unobs_nodes(trol_list, unobs_nd_list)\n",
    "checker = IdentifiabilityChecker(doX_bnet,\n",
    "                              num_1world_samples=10000,\n",
    "                              num_worlds=100)\n",
    "for x_val in [0,1]:    \n",
    "    doX_bnet.reset_x_val(x_val)\n",
    "    checker.set_query_bds_and_stats()\n",
    "    checker.print_query_bds_and_stats()\n",
    "    Plotter_nz.plot_query_bds(doX_bnet.x_val,\n",
    "        checker.get_query_bds(),\n",
    "        zname_to_query_stats=checker.get_query_stats(),\n",
    "        horizontal=True)"
   ]
  },
  {
   "cell_type": "code",
   "execution_count": 8,
   "id": "f9d421fa-1fe6-4179-b86c-7f960d9c676c",
   "metadata": {},
   "outputs": [
    {
     "name": "stdout",
     "output_type": "stream",
     "text": [
      "Frontdoor Adjustment Formula prediction for query P(y|do(x))=\n",
      "(x is row index, y is column index)\n",
      "[[0.591 0.409]\n",
      " [0.584 0.416]]\n"
     ]
    }
   ],
   "source": [
    "print_fdoor_prediction()"
   ]
  },
  {
   "cell_type": "markdown",
   "id": "08d7882d-3809-4567-92e7-234eeb4ddc5c",
   "metadata": {},
   "source": [
    "NOTE: I observed a lot of variation in sigma (sometimes it can be as large as 0.1 or 0.2) when I changed the random seed. That seed determines the pots of in_bnet. When sigma is large, the frontdoor prediction is not as close to mu as in this example, but it is almost always within sigma of it."
   ]
  },
  {
   "cell_type": "code",
   "execution_count": null,
   "id": "8b6b85f9-006b-40f5-a0ca-cdf631517292",
   "metadata": {},
   "outputs": [],
   "source": []
  }
 ],
 "metadata": {
  "kernelspec": {
   "display_name": "Python 3 (ipykernel)",
   "language": "python",
   "name": "python3"
  },
  "language_info": {
   "codemirror_mode": {
    "name": "ipython",
    "version": 3
   },
   "file_extension": ".py",
   "mimetype": "text/x-python",
   "name": "python",
   "nbconvert_exporter": "python",
   "pygments_lexer": "ipython3",
   "version": "3.9.10"
  }
 },
 "nbformat": 4,
 "nbformat_minor": 5
}
