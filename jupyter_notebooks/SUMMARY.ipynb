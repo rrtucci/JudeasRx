{
 "cells": [
  {
   "cell_type": "markdown",
   "metadata": {},
   "source": [
    "# SUMMARY notebook\n",
    "\n",
    "This notebook scans the directory in which it lives to find all jupyter notebooks (other than itself) in that directory. It then prints for every notebook it finds (1) a hyperlink to the notebook, and (2) the first cell (which is always markdown) of the notebook. This way you can read a nice, automatically generated summary of all the notebooks without having to open all of them. If you find a notebook that you want to explore further, you can simply click on its link to open it."
   ]
  },
  {
   "cell_type": "code",
   "execution_count": 2,
   "metadata": {},
   "outputs": [
    {
     "data": {
      "text/markdown": [
       "\n",
       "\n",
       "<hr style=\"height:10px; background-color: blue;\">\n",
       "\n",
       "[<a href=\"gallery-cbnets-display.ipynb\" target= \"_blank\">gallery-cbnets-display.ipynb</a>] 1/2\n",
       "\n",
       "# Gallery of some Classical Bayesian Nets available in Quantum Fog's examples_cbnets folder\n",
       "\n",
       "Includes all the small (20 < nodes) and medium (20-60 nodes) bnets in the bnlearn website\n",
       "\n",
       "http://www.bnlearn.com/bnrepository/\n",
       "\n",
       "In alphabetical order\n",
       "\n",
       "<hr style=\"height:10px; background-color: blue;\">\n",
       "\n",
       "[<a href=\"judeas-rx.ipynb\" target= \"_blank\">judeas-rx.ipynb</a>] 2/2\n",
       "\n",
       "# JudeasRx for 2 strata (g=male, female)\n",
       "\n",
       "This is a GUI (graphical user interface) with slider controls and interactive plots implemented via ipywidgets."
      ],
      "text/plain": [
       "<IPython.core.display.Markdown object>"
      ]
     },
     "metadata": {},
     "output_type": "display_data"
    }
   ],
   "source": [
    "import os\n",
    "import json\n",
    "from IPython.display import display, Markdown\n",
    "\n",
    "\n",
    "# the name of this file\n",
    "this_fname = 'SUMMARY.ipynb'\n",
    "fname_to_md = {}\n",
    "for fname in sorted(os.listdir('./')):\n",
    "    if fname[-6:] == '.ipynb'  and fname != this_fname:\n",
    "        # print('------------', fname)\n",
    "        with open(fname, 'r', encoding=\"utf-8\") as f:\n",
    "            fdata = json.load(f)\n",
    "            fname_to_md[fname] = ''.join(fdata['cells'][0]['source'])\n",
    "# print(fname_to_md)\n",
    "pre_sep = '\\n\\n<hr style=\"height:10px; background-color: blue;\">\\n\\n'\n",
    "full_md = ''\n",
    "k = 1\n",
    "num_nb = len(fname_to_md)\n",
    "for fname, md in fname_to_md.items():\n",
    "    sep = pre_sep\n",
    "    sep += '[<a href=\"' + fname + '\" target= \"_blank\">' + fname + '</a>] ' \\\n",
    "    + str(k) + '/' + str(num_nb) + '\\n\\n'\n",
    "    full_md += sep + md\n",
    "    k += 1\n",
    "display(Markdown(full_md))"
   ]
  },
  {
   "cell_type": "code",
   "execution_count": null,
   "metadata": {},
   "outputs": [],
   "source": []
  },
  {
   "cell_type": "code",
   "execution_count": null,
   "metadata": {},
   "outputs": [],
   "source": []
  }
 ],
 "metadata": {
  "kernelspec": {
   "display_name": "Python 3 (ipykernel)",
   "language": "python",
   "name": "python3"
  },
  "language_info": {
   "codemirror_mode": {
    "name": "ipython",
    "version": 3
   },
   "file_extension": ".py",
   "mimetype": "text/x-python",
   "name": "python",
   "nbconvert_exporter": "python",
   "pygments_lexer": "ipython3",
   "version": "3.7.6"
  }
 },
 "nbformat": 4,
 "nbformat_minor": 4
}
