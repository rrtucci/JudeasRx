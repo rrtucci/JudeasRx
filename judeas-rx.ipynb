{
 "cells": [
  {
   "cell_type": "code",
   "execution_count": 2,
   "id": "3ff8c0c1-f241-438c-8650-fc868a3f5868",
   "metadata": {},
   "outputs": [],
   "source": [
    "from Bounder import Bounder\n",
    "import Bounder\n",
    "from Plotter import Plotter\n",
    "import Plotter\n",
    "from Widgeter import Widgeter\n",
    "import Widgeter\n",
    "import imp\n",
    "\n",
    "import numpy as np\n",
    "import ipywidgets as wid\n",
    "from IPython.display import display, clear_output\n",
    "%matplotlib inline"
   ]
  },
  {
   "cell_type": "code",
   "execution_count": 17,
   "id": "71f8b843-5f5b-4d55-90a7-690d4422bb56",
   "metadata": {},
   "outputs": [
    {
     "data": {
      "text/plain": [
       "<module 'Bounder' from '/home/rrtucci/PycharmProjects/JudeasRx/Bounder.py'>"
      ]
     },
     "execution_count": 17,
     "metadata": {},
     "output_type": "execute_result"
    }
   ],
   "source": [
    "# this cell is for development purposes. Rerun this\n",
    "# every time there are changes to the code,\n",
    "# instead of restarting the kernel, which takes much longer.\n",
    "imp.reload(Plotter)\n",
    "imp.reload(Widgeter)\n",
    "imp.reload(Bounder)"
   ]
  },
  {
   "cell_type": "code",
   "execution_count": 18,
   "id": "b4514d2d-9865-4a17-a5bc-b7e3612793f6",
   "metadata": {
    "tags": []
   },
   "outputs": [
    {
     "data": {
      "application/vnd.jupyter.widget-view+json": {
       "model_id": "28960ba91ac9496bb38b45429b18efd4",
       "version_major": 2,
       "version_minor": 0
      },
      "text/plain": [
       "VBox(children=(HTMLMath(value=\"Enter Observational Data from a survey.<br>Then press the 'Add Experimental Dat…"
      ]
     },
     "metadata": {},
     "output_type": "display_data"
    },
    {
     "data": {
      "application/vnd.jupyter.widget-view+json": {
       "model_id": "6f77e6bc362c493d9298d8a4cdde231c",
       "version_major": 2,
       "version_minor": 0
      },
      "text/plain": [
       "Output()"
      ]
     },
     "metadata": {},
     "output_type": "display_data"
    }
   ],
   "source": [
    "wter = Widgeter.Widgeter()\n",
    "wter.run_gui()"
   ]
  },
  {
   "cell_type": "code",
   "execution_count": null,
   "id": "6a07b045-1b0f-4993-ba57-677da29b921e",
   "metadata": {},
   "outputs": [],
   "source": []
  }
 ],
 "metadata": {
  "kernelspec": {
   "display_name": "Python 3 (ipykernel)",
   "language": "python",
   "name": "python3"
  },
  "language_info": {
   "codemirror_mode": {
    "name": "ipython",
    "version": 3
   },
   "file_extension": ".py",
   "mimetype": "text/x-python",
   "name": "python",
   "nbconvert_exporter": "python",
   "pygments_lexer": "ipython3",
   "version": "3.7.6"
  }
 },
 "nbformat": 4,
 "nbformat_minor": 5
}
