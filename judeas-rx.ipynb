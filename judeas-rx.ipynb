{
 "cells": [
  {
   "cell_type": "code",
   "execution_count": 1,
   "id": "3ff8c0c1-f241-438c-8650-fc868a3f5868",
   "metadata": {},
   "outputs": [],
   "source": [
    "from Bounder import Bounder\n",
    "import Bounder\n",
    "from Plotter_2z import Plotter_2z\n",
    "import Plotter_2z\n",
    "from Widgeter import Widgeter\n",
    "import Widgeter\n",
    "import imp\n",
    "\n",
    "import numpy as np\n",
    "import ipywidgets as wid\n",
    "from IPython.display import display, clear_output\n",
    "%matplotlib inline"
   ]
  },
  {
   "cell_type": "code",
   "execution_count": 21,
   "id": "71f8b843-5f5b-4d55-90a7-690d4422bb56",
   "metadata": {},
   "outputs": [
    {
     "data": {
      "text/plain": [
       "<module 'Bounder' from '/home/rrtucci/PycharmProjects/JudeasRx/Bounder.py'>"
      ]
     },
     "execution_count": 21,
     "metadata": {},
     "output_type": "execute_result"
    }
   ],
   "source": [
    "# this cell is for development purposes. Rerun this\n",
    "# every time there are changes to the code,\n",
    "# instead of restarting the kernel, which takes much longer.\n",
    "imp.reload(Plotter_2z)\n",
    "imp.reload(Widgeter)\n",
    "imp.reload(Bounder)"
   ]
  },
  {
   "cell_type": "code",
   "execution_count": 22,
   "id": "b4514d2d-9865-4a17-a5bc-b7e3612793f6",
   "metadata": {
    "tags": []
   },
   "outputs": [
    {
     "data": {
      "application/vnd.jupyter.widget-view+json": {
       "model_id": "6bbd286886e14137a474a80cf6b1df0a",
       "version_major": 2,
       "version_minor": 0
      },
      "text/plain": [
       "VBox(children=(HTMLMath(value=\"Enter Observational Data from a survey.<br>Then press the 'Add Experimental Dat…"
      ]
     },
     "metadata": {},
     "output_type": "display_data"
    },
    {
     "data": {
      "application/vnd.jupyter.widget-view+json": {
       "model_id": "56a6a2e894244e26b78fcd364365ae7a",
       "version_major": 2,
       "version_minor": 0
      },
      "text/plain": [
       "Output()"
      ]
     },
     "metadata": {},
     "output_type": "display_data"
    }
   ],
   "source": [
    "wter = Widgeter.Widgeter()\n",
    "wter.run_gui()"
   ]
  },
  {
   "cell_type": "code",
   "execution_count": null,
   "id": "82a2ca01-dd77-4415-b21b-63a230189f10",
   "metadata": {},
   "outputs": [],
   "source": []
  },
  {
   "cell_type": "code",
   "execution_count": null,
   "id": "f1d59764-adb8-4772-a5a3-6454fe2c8399",
   "metadata": {},
   "outputs": [],
   "source": []
  }
 ],
 "metadata": {
  "kernelspec": {
   "display_name": "Python 3 (ipykernel)",
   "language": "python",
   "name": "python3"
  },
  "language_info": {
   "codemirror_mode": {
    "name": "ipython",
    "version": 3
   },
   "file_extension": ".py",
   "mimetype": "text/x-python",
   "name": "python",
   "nbconvert_exporter": "python",
   "pygments_lexer": "ipython3",
   "version": "3.7.6"
  }
 },
 "nbformat": 4,
 "nbformat_minor": 5
}
